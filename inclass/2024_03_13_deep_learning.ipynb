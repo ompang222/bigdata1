{
  "nbformat": 4,
  "nbformat_minor": 0,
  "metadata": {
    "colab": {
      "provenance": [],
      "authorship_tag": "ABX9TyMxcKi11MKyWs/VoLGbiTdU",
      "include_colab_link": true
    },
    "kernelspec": {
      "name": "python3",
      "display_name": "Python 3"
    },
    "language_info": {
      "name": "python"
    }
  },
  "cells": [
    {
      "cell_type": "markdown",
      "metadata": {
        "id": "view-in-github",
        "colab_type": "text"
      },
      "source": [
        "<a href=\"https://colab.research.google.com/github/ompang222/deep-learning/blob/main/inclass/2024_03_13_deep_learning.ipynb\" target=\"_parent\"><img src=\"https://colab.research.google.com/assets/colab-badge.svg\" alt=\"Open In Colab\"/></a>"
      ]
    },
    {
      "cell_type": "code",
      "execution_count": null,
      "metadata": {
        "id": "eF2YBnFfedfM"
      },
      "outputs": [],
      "source": []
    },
    {
      "cell_type": "markdown",
      "source": [
        "## 텐서플로 훑어보기"
      ],
      "metadata": {
        "id": "rm6w3GNTjVs5"
      }
    },
    {
      "cell_type": "code",
      "source": [
        "import tensorflow.compat.v1 as tf\n",
        "tf.disable_v2_behavior()\n",
        "\n",
        "a = tf.placeholder(tf.int32, shape=3)\n",
        "b = tf.Variable(3)\n",
        "c = tf.add(a,b)\n",
        "\n",
        "init = tf.global_variables_initializer()\n",
        "\n",
        "with tf.compat.v1.Session() as sess:\n",
        "  sess.run(init)\n",
        "  print(sess.run(c, {a: [1,2,3]}))"
      ],
      "metadata": {
        "colab": {
          "base_uri": "https://localhost:8080/"
        },
        "id": "Xmn-7wa6jfAt",
        "outputId": "859b4279-7129-471e-d65b-279cd5445fbc"
      },
      "execution_count": 12,
      "outputs": [
        {
          "output_type": "stream",
          "name": "stdout",
          "text": [
            "[4 5 6]\n"
          ]
        }
      ]
    },
    {
      "cell_type": "code",
      "source": [
        "import tensorflow.compat.v1 as tf\n",
        "tf.disable_v2_behavior()\n",
        "\n",
        "a = tf.placeholder(tf.int32)\n",
        "b = tf.placeholder(tf.int32)\n",
        "c = tf.multiply(a,b)\n",
        "\n",
        "init = tf.global_variables_initializer()\n",
        "\n",
        "with tf.compat.v1.Session() as sess:\n",
        "  sess.run(init)\n",
        "  print(sess.run(c, {a: [[1,2,3], [1,2,3], [1,2,3]], b: [[1,2,3], [1,2,3], [1,2,3]]}))\n"
      ],
      "metadata": {
        "colab": {
          "base_uri": "https://localhost:8080/"
        },
        "id": "6Td_dhObq7sl",
        "outputId": "df05d298-721c-4fe0-a12a-d7adb04d300c"
      },
      "execution_count": 7,
      "outputs": [
        {
          "output_type": "stream",
          "name": "stdout",
          "text": [
            "[[1 4 9]\n",
            " [1 4 9]\n",
            " [1 4 9]]\n"
          ]
        }
      ]
    },
    {
      "cell_type": "code",
      "source": [
        "import tensorflow.compat.v1 as tf\n",
        "tf.disable_v2_behavior()\n",
        "\n",
        "a = tf.placeholder(tf.int32)\n",
        "b = tf.placeholder(tf.int32)\n",
        "c = tf.placeholder(tf.float32)\n",
        "d = tf.placeholder(tf.float32)\n",
        "\n",
        "add0peration = tf.add(a,b)\n",
        "minus0peration = tf.subtract(a,b)\n",
        "mul0peration = tf.multiply(a,b)\n",
        "div0peration = tf.div(c,d)\n",
        "\n",
        "\n",
        "init = tf.global_variables_initializer()\n",
        "\n",
        "with tf.compat.v1.Session() as sess:\n",
        "  sess.run(init)\n",
        "  print(\"Plus =>\", sess.run(add0peration, {a: [[1,2,3], [1,2,3]], b: [[5,2,3], [1,2,3]]}))\n",
        "  print(\"Mnius =>\", sess.run(minus0peration, {a: [[1,2,3], [1,2,3]], b: [[5,2,3], [1,2,3]]}))\n",
        "  print(\"Multiply =>\", sess.run(mul0peration, {a: [[1,2,3], [1,2,3]], b: [[5,2,3], [1,2,3]]}))\n",
        "  print(\"Div =>\", sess.run(div0peration, {c: [[1,2,3], [1,2,3]], d: [[5,2,3], [1,2,3]]}))"
      ],
      "metadata": {
        "colab": {
          "base_uri": "https://localhost:8080/"
        },
        "id": "2pjiAc_hrcZd",
        "outputId": "7f5597b2-696c-4671-b696-d459ddb969dc"
      },
      "execution_count": 16,
      "outputs": [
        {
          "output_type": "stream",
          "name": "stdout",
          "text": [
            "Plus => [[6 4 6]\n",
            " [2 4 6]]\n",
            "Mnius => [[-4  0  0]\n",
            " [ 0  0  0]]\n",
            "Multiply => [[5 4 9]\n",
            " [1 4 9]]\n",
            "Div => [[0.2 1.  1. ]\n",
            " [1.  1.  1. ]]\n"
          ]
        }
      ]
    },
    {
      "cell_type": "code",
      "source": [
        "import tensorflow.compat.v1 as tf\n",
        "tf.disable_v2_behavior()\n",
        "\n",
        "a = tf.placeholder(tf.int32)\n",
        "b = tf.placeholder(tf.int32)\n",
        "\n",
        "init = tf.global_variables_initializer()\n",
        "\n",
        "with tf.compat.v1.Session() as sess:\n",
        "  sess.run(init)\n",
        "  print(sess.run(c, {a: [[1,2,3], [1,2,3], [1,2,3]], b: [[1,2,3], [1,2,3], [1,2,3]]}))"
      ],
      "metadata": {
        "id": "2TZouDbI3S9g"
      },
      "execution_count": null,
      "outputs": []
    }
  ]
}